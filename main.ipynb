{
 "cells": [
  {
   "cell_type": "markdown",
   "id": "add88783-54c0-4a87-90e0-6f5330bb73c5",
   "metadata": {},
   "source": [
    "# Optimizing customer data"
   ]
  },
  {
   "cell_type": "markdown",
   "id": "081b556a-b4d9-4829-917a-87c4d57b0c77",
   "metadata": {},
   "source": [
    "#### Data includes information and details of customer purchases. The goal of data optimization is to facilitate analysis and increase efficiency in the decision-making process.\n",
    "\n",
    "#### Finally, we should get the following information\n",
    "* Average daily purchases\n",
    "* Minimum and maximum purchase amount per day\n",
    "* High traffic daily shopping times"
   ]
  },
  {
   "cell_type": "code",
   "execution_count": 6,
   "id": "6f23ab01-d3b7-428b-b895-8ae789698535",
   "metadata": {},
   "outputs": [],
   "source": [
    "# import libraries\n",
    "\n",
    "import pandas as pd\n",
    "import matplotlib.pyplot as plt"
   ]
  },
  {
   "cell_type": "code",
   "execution_count": 7,
   "id": "bad7b112-97b9-4d4b-91fb-5e3a5873780d",
   "metadata": {},
   "outputs": [
    {
     "data": {
      "text/html": [
       "<div>\n",
       "<style scoped>\n",
       "    .dataframe tbody tr th:only-of-type {\n",
       "        vertical-align: middle;\n",
       "    }\n",
       "\n",
       "    .dataframe tbody tr th {\n",
       "        vertical-align: top;\n",
       "    }\n",
       "\n",
       "    .dataframe thead th {\n",
       "        text-align: right;\n",
       "    }\n",
       "</style>\n",
       "<table border=\"1\" class=\"dataframe\">\n",
       "  <thead>\n",
       "    <tr style=\"text-align: right;\">\n",
       "      <th></th>\n",
       "      <th>Product_Name</th>\n",
       "      <th>Customer_Name</th>\n",
       "      <th>date_time</th>\n",
       "      <th>Price_Product</th>\n",
       "      <th>Customer_email</th>\n",
       "      <th>Name_cashier</th>\n",
       "      <th>mobile_number</th>\n",
       "      <th>Transportation_fare</th>\n",
       "      <th>amount_discount</th>\n",
       "      <th>Amount_received</th>\n",
       "    </tr>\n",
       "  </thead>\n",
       "  <tbody>\n",
       "    <tr>\n",
       "      <th>0</th>\n",
       "      <td>Flour - Chickpea</td>\n",
       "      <td>Joseito</td>\n",
       "      <td>8/19/2023</td>\n",
       "      <td>$6.28</td>\n",
       "      <td>ljessope0@slate.com</td>\n",
       "      <td>Lynnelle</td>\n",
       "      <td>393-896-7782</td>\n",
       "      <td>$2.29</td>\n",
       "      <td>$8.73</td>\n",
       "      <td>$1.51</td>\n",
       "    </tr>\n",
       "    <tr>\n",
       "      <th>1</th>\n",
       "      <td>Lamb - Leg, Bone In</td>\n",
       "      <td>Marielle</td>\n",
       "      <td>2/5/2023</td>\n",
       "      <td>$6.08</td>\n",
       "      <td>kbeyn1@amazon.de</td>\n",
       "      <td>Kerstin</td>\n",
       "      <td>526-832-7064</td>\n",
       "      <td>$1.89</td>\n",
       "      <td>$0.95</td>\n",
       "      <td>$4.94</td>\n",
       "    </tr>\n",
       "    <tr>\n",
       "      <th>2</th>\n",
       "      <td>Buffalo - Tenderloin</td>\n",
       "      <td>Tanya</td>\n",
       "      <td>5/12/2023</td>\n",
       "      <td>$9.02</td>\n",
       "      <td>mcroysdale2@berkeley.edu</td>\n",
       "      <td>Mandy</td>\n",
       "      <td>604-750-1251</td>\n",
       "      <td>$9.13</td>\n",
       "      <td>$0.43</td>\n",
       "      <td>$9.34</td>\n",
       "    </tr>\n",
       "    <tr>\n",
       "      <th>3</th>\n",
       "      <td>Muffins - Assorted</td>\n",
       "      <td>Hamlin</td>\n",
       "      <td>10/21/2023</td>\n",
       "      <td>$3.91</td>\n",
       "      <td>rhorsfield3@desdev.cn</td>\n",
       "      <td>Rogers</td>\n",
       "      <td>656-353-1535</td>\n",
       "      <td>$7.76</td>\n",
       "      <td>$6.04</td>\n",
       "      <td>$3.49</td>\n",
       "    </tr>\n",
       "    <tr>\n",
       "      <th>4</th>\n",
       "      <td>Alize Sunset</td>\n",
       "      <td>Whitney</td>\n",
       "      <td>11/27/2023</td>\n",
       "      <td>$2.60</td>\n",
       "      <td>acowin4@apache.org</td>\n",
       "      <td>Abdel</td>\n",
       "      <td>725-443-5824</td>\n",
       "      <td>$3.66</td>\n",
       "      <td>$0.11</td>\n",
       "      <td>$4.66</td>\n",
       "    </tr>\n",
       "  </tbody>\n",
       "</table>\n",
       "</div>"
      ],
      "text/plain": [
       "           Product_Name Customer_Name   date_time Price_Product  \\\n",
       "0      Flour - Chickpea       Joseito   8/19/2023        $6.28    \n",
       "1   Lamb - Leg, Bone In      Marielle    2/5/2023        $6.08    \n",
       "2  Buffalo - Tenderloin         Tanya   5/12/2023        $9.02    \n",
       "3    Muffins - Assorted        Hamlin  10/21/2023        $3.91    \n",
       "4          Alize Sunset       Whitney  11/27/2023        $2.60    \n",
       "\n",
       "             Customer_email Name_cashier mobile_number Transportation_fare  \\\n",
       "0       ljessope0@slate.com     Lynnelle  393-896-7782              $2.29    \n",
       "1          kbeyn1@amazon.de      Kerstin  526-832-7064              $1.89    \n",
       "2  mcroysdale2@berkeley.edu        Mandy  604-750-1251              $9.13    \n",
       "3     rhorsfield3@desdev.cn       Rogers  656-353-1535              $7.76    \n",
       "4        acowin4@apache.org        Abdel  725-443-5824              $3.66    \n",
       "\n",
       "  amount_discount Amount_received  \n",
       "0          $8.73           $1.51   \n",
       "1          $0.95           $4.94   \n",
       "2          $0.43           $9.34   \n",
       "3          $6.04           $3.49   \n",
       "4          $0.11           $4.66   "
      ]
     },
     "execution_count": 7,
     "metadata": {},
     "output_type": "execute_result"
    }
   ],
   "source": [
    "# read data with pandas\n",
    "\n",
    "df = pd.read_csv('./report.csv')\n",
    "df.head()"
   ]
  },
  {
   "cell_type": "code",
   "execution_count": 8,
   "id": "b72694e1-b70c-453c-b2fd-b351a14e35d3",
   "metadata": {},
   "outputs": [
    {
     "data": {
      "text/plain": [
       "(1000, 10)"
      ]
     },
     "execution_count": 8,
     "metadata": {},
     "output_type": "execute_result"
    }
   ],
   "source": [
    "df.shape"
   ]
  },
  {
   "cell_type": "code",
   "execution_count": 10,
   "id": "110cd0a5-2a93-4b02-8530-f5ea06b92a64",
   "metadata": {},
   "outputs": [
    {
     "data": {
      "text/plain": [
       "Index(['Product_Name', 'Customer_Name', 'date_time', 'Price_Product',\n",
       "       'Customer_email', 'Name_cashier', 'mobile_number',\n",
       "       'Transportation_fare', 'amount_discount', 'Amount_received'],\n",
       "      dtype='object')"
      ]
     },
     "execution_count": 10,
     "metadata": {},
     "output_type": "execute_result"
    }
   ],
   "source": [
    "df.columns"
   ]
  },
  {
   "cell_type": "code",
   "execution_count": 12,
   "id": "33c58cb9-ccff-43b7-9a30-add0f448c3bb",
   "metadata": {},
   "outputs": [
    {
     "data": {
      "text/plain": [
       "(1000, 10)"
      ]
     },
     "execution_count": 12,
     "metadata": {},
     "output_type": "execute_result"
    }
   ],
   "source": [
    "# drop duplicated records\n",
    "\n",
    "df = df.drop_duplicates()\n",
    "df.shape\n",
    "\n",
    "# We notice that there are no duplicate records in the dataset"
   ]
  },
  {
   "cell_type": "markdown",
   "id": "f640cfff-4f6a-4c81-8e9b-a0aba1d4ea82",
   "metadata": {},
   "source": [
    "#### show some information about dataset"
   ]
  },
  {
   "cell_type": "code",
   "execution_count": 14,
   "id": "92f06019-7803-4fe8-b4ea-50fe6447f398",
   "metadata": {},
   "outputs": [
    {
     "data": {
      "text/plain": [
       "Product_Name           object\n",
       "Customer_Name          object\n",
       "date_time              object\n",
       "Price_Product          object\n",
       "Customer_email         object\n",
       "Name_cashier           object\n",
       "mobile_number          object\n",
       "Transportation_fare    object\n",
       "amount_discount        object\n",
       "Amount_received        object\n",
       "dtype: object"
      ]
     },
     "execution_count": 14,
     "metadata": {},
     "output_type": "execute_result"
    }
   ],
   "source": [
    "df.dtypes\n",
    "\n",
    "# We notice that all types are objects and must be converted to numbers in the pre-processing"
   ]
  },
  {
   "cell_type": "code",
   "execution_count": 17,
   "id": "8d87bc7e-2ba4-410f-8deb-fcbc8ceb653a",
   "metadata": {},
   "outputs": [
    {
     "data": {
      "text/plain": [
       "Product_Name            824\n",
       "Customer_Name           942\n",
       "date_time               338\n",
       "Price_Product           652\n",
       "Customer_email         1000\n",
       "Name_cashier            949\n",
       "mobile_number          1000\n",
       "Transportation_fare     625\n",
       "amount_discount         623\n",
       "Amount_received         640\n",
       "dtype: int64"
      ]
     },
     "execution_count": 17,
     "metadata": {},
     "output_type": "execute_result"
    }
   ],
   "source": [
    "df.nunique()\n",
    "\n",
    "# At this part, we notice that none of the data is categorical."
   ]
  },
  {
   "cell_type": "code",
   "execution_count": 18,
   "id": "a4157f1b-a9d6-4da0-8d1d-aab3fb131315",
   "metadata": {},
   "outputs": [
    {
     "name": "stdout",
     "output_type": "stream",
     "text": [
      "<class 'pandas.core.frame.DataFrame'>\n",
      "RangeIndex: 1000 entries, 0 to 999\n",
      "Data columns (total 10 columns):\n",
      " #   Column               Non-Null Count  Dtype \n",
      "---  ------               --------------  ----- \n",
      " 0   Product_Name         1000 non-null   object\n",
      " 1   Customer_Name        1000 non-null   object\n",
      " 2   date_time            1000 non-null   object\n",
      " 3   Price_Product        1000 non-null   object\n",
      " 4   Customer_email       1000 non-null   object\n",
      " 5   Name_cashier         1000 non-null   object\n",
      " 6   mobile_number        1000 non-null   object\n",
      " 7   Transportation_fare  1000 non-null   object\n",
      " 8   amount_discount      1000 non-null   object\n",
      " 9   Amount_received      1000 non-null   object\n",
      "dtypes: object(10)\n",
      "memory usage: 78.3+ KB\n"
     ]
    }
   ],
   "source": [
    "df.info()"
   ]
  },
  {
   "cell_type": "code",
   "execution_count": 19,
   "id": "0828399c-2fe5-4dda-8206-662385179448",
   "metadata": {},
   "outputs": [
    {
     "data": {
      "text/plain": [
       "Product_Name           0\n",
       "Customer_Name          0\n",
       "date_time              0\n",
       "Price_Product          0\n",
       "Customer_email         0\n",
       "Name_cashier           0\n",
       "mobile_number          0\n",
       "Transportation_fare    0\n",
       "amount_discount        0\n",
       "Amount_received        0\n",
       "dtype: int64"
      ]
     },
     "execution_count": 19,
     "metadata": {},
     "output_type": "execute_result"
    }
   ],
   "source": [
    "df.isnull().sum()"
   ]
  },
  {
   "cell_type": "markdown",
   "id": "ffbb65d0-118e-4663-ba5d-ad1f65b515d3",
   "metadata": {},
   "source": [
    "#### pre-processing"
   ]
  },
  {
   "cell_type": "code",
   "execution_count": 20,
   "id": "6184d849-2ae1-4a7e-9208-4e206c5874a1",
   "metadata": {},
   "outputs": [
    {
     "data": {
      "text/html": [
       "<div>\n",
       "<style scoped>\n",
       "    .dataframe tbody tr th:only-of-type {\n",
       "        vertical-align: middle;\n",
       "    }\n",
       "\n",
       "    .dataframe tbody tr th {\n",
       "        vertical-align: top;\n",
       "    }\n",
       "\n",
       "    .dataframe thead th {\n",
       "        text-align: right;\n",
       "    }\n",
       "</style>\n",
       "<table border=\"1\" class=\"dataframe\">\n",
       "  <thead>\n",
       "    <tr style=\"text-align: right;\">\n",
       "      <th></th>\n",
       "      <th>date_time</th>\n",
       "      <th>Price_Product</th>\n",
       "      <th>Transportation_fare</th>\n",
       "      <th>amount_discount</th>\n",
       "      <th>Amount_received</th>\n",
       "    </tr>\n",
       "  </thead>\n",
       "  <tbody>\n",
       "    <tr>\n",
       "      <th>0</th>\n",
       "      <td>8/19/2023</td>\n",
       "      <td>$6.28</td>\n",
       "      <td>$2.29</td>\n",
       "      <td>$8.73</td>\n",
       "      <td>$1.51</td>\n",
       "    </tr>\n",
       "    <tr>\n",
       "      <th>1</th>\n",
       "      <td>2/5/2023</td>\n",
       "      <td>$6.08</td>\n",
       "      <td>$1.89</td>\n",
       "      <td>$0.95</td>\n",
       "      <td>$4.94</td>\n",
       "    </tr>\n",
       "    <tr>\n",
       "      <th>2</th>\n",
       "      <td>5/12/2023</td>\n",
       "      <td>$9.02</td>\n",
       "      <td>$9.13</td>\n",
       "      <td>$0.43</td>\n",
       "      <td>$9.34</td>\n",
       "    </tr>\n",
       "    <tr>\n",
       "      <th>3</th>\n",
       "      <td>10/21/2023</td>\n",
       "      <td>$3.91</td>\n",
       "      <td>$7.76</td>\n",
       "      <td>$6.04</td>\n",
       "      <td>$3.49</td>\n",
       "    </tr>\n",
       "    <tr>\n",
       "      <th>4</th>\n",
       "      <td>11/27/2023</td>\n",
       "      <td>$2.60</td>\n",
       "      <td>$3.66</td>\n",
       "      <td>$0.11</td>\n",
       "      <td>$4.66</td>\n",
       "    </tr>\n",
       "  </tbody>\n",
       "</table>\n",
       "</div>"
      ],
      "text/plain": [
       "    date_time Price_Product Transportation_fare amount_discount  \\\n",
       "0   8/19/2023        $6.28               $2.29           $8.73    \n",
       "1    2/5/2023        $6.08               $1.89           $0.95    \n",
       "2   5/12/2023        $9.02               $9.13           $0.43    \n",
       "3  10/21/2023        $3.91               $7.76           $6.04    \n",
       "4  11/27/2023        $2.60               $3.66           $0.11    \n",
       "\n",
       "  Amount_received  \n",
       "0          $1.51   \n",
       "1          $4.94   \n",
       "2          $9.34   \n",
       "3          $3.49   \n",
       "4          $4.66   "
      ]
     },
     "execution_count": 20,
     "metadata": {},
     "output_type": "execute_result"
    }
   ],
   "source": [
    "# First, we delete the columns we don't need\n",
    "\n",
    "drop_columns = ['Product_Name', 'Customer_Name', 'Customer_email', 'Name_cashier', 'mobile_number']\n",
    "\n",
    "df = df.drop(columns=drop_columns)\n",
    "df.head()"
   ]
  },
  {
   "cell_type": "code",
   "execution_count": 23,
   "id": "3e0e604e-bd5f-4e84-ae53-01cc6703d590",
   "metadata": {},
   "outputs": [
    {
     "data": {
      "text/plain": [
       "date_time               object\n",
       "Price_Product          float64\n",
       "Transportation_fare    float64\n",
       "amount_discount        float64\n",
       "Amount_received        float64\n",
       "dtype: object"
      ]
     },
     "execution_count": 23,
     "metadata": {},
     "output_type": "execute_result"
    }
   ],
   "source": [
    "# Changing the type of columns related to price to float\n",
    "\n",
    "convert_data_columns = ['Price_Product', 'Transportation_fare', 'amount_discount', 'Amount_received']\n",
    "\n",
    "for col in convert_data_columns:\n",
    "    df[col] = df[col].str.replace('$','').astype(float)\n",
    "df.dtypes"
   ]
  },
  {
   "cell_type": "code",
   "execution_count": 24,
   "id": "9a336a51-76a5-4520-9c88-bc1b28fc3ab0",
   "metadata": {},
   "outputs": [
    {
     "data": {
      "text/plain": [
       "date_time              datetime64[ns]\n",
       "Price_Product                 float64\n",
       "Transportation_fare           float64\n",
       "amount_discount               float64\n",
       "Amount_received               float64\n",
       "dtype: object"
      ]
     },
     "execution_count": 24,
     "metadata": {},
     "output_type": "execute_result"
    }
   ],
   "source": [
    "# And at this part we have to change the date_time format.\n",
    "\n",
    "df['date_time'] = pd.to_datetime(df['date_time'])\n",
    "df.dtypes"
   ]
  },
  {
   "cell_type": "code",
   "execution_count": 25,
   "id": "9d26eca9-1d27-4c21-b41e-eaf85047aafc",
   "metadata": {},
   "outputs": [
    {
     "data": {
      "text/plain": [
       "(300, 5)"
      ]
     },
     "execution_count": 25,
     "metadata": {},
     "output_type": "execute_result"
    }
   ],
   "source": [
    "# In this step, we want to optimize the number of rows so that the data analysis becomes faster. Using random sampling or filtering\n",
    "\n",
    "# sample\n",
    "\n",
    "sample_df = df.sample(n=300, random_state=0)\n",
    "sample_df.shape"
   ]
  },
  {
   "cell_type": "code",
   "execution_count": 29,
   "id": "6c90765d-4e01-45b4-bde2-37f53c3120ea",
   "metadata": {},
   "outputs": [
    {
     "data": {
      "text/html": [
       "<div>\n",
       "<style scoped>\n",
       "    .dataframe tbody tr th:only-of-type {\n",
       "        vertical-align: middle;\n",
       "    }\n",
       "\n",
       "    .dataframe tbody tr th {\n",
       "        vertical-align: top;\n",
       "    }\n",
       "\n",
       "    .dataframe thead th {\n",
       "        text-align: right;\n",
       "    }\n",
       "</style>\n",
       "<table border=\"1\" class=\"dataframe\">\n",
       "  <thead>\n",
       "    <tr style=\"text-align: right;\">\n",
       "      <th></th>\n",
       "      <th>date_time</th>\n",
       "      <th>Price_Product</th>\n",
       "      <th>Transportation_fare</th>\n",
       "      <th>amount_discount</th>\n",
       "      <th>Amount_received</th>\n",
       "    </tr>\n",
       "  </thead>\n",
       "  <tbody>\n",
       "    <tr>\n",
       "      <th>978</th>\n",
       "      <td>2023-01-02</td>\n",
       "      <td>7.28</td>\n",
       "      <td>2.68</td>\n",
       "      <td>3.37</td>\n",
       "      <td>9.26</td>\n",
       "    </tr>\n",
       "    <tr>\n",
       "      <th>556</th>\n",
       "      <td>2023-01-02</td>\n",
       "      <td>6.44</td>\n",
       "      <td>3.24</td>\n",
       "      <td>3.61</td>\n",
       "      <td>9.52</td>\n",
       "    </tr>\n",
       "    <tr>\n",
       "      <th>861</th>\n",
       "      <td>2023-01-02</td>\n",
       "      <td>7.62</td>\n",
       "      <td>3.63</td>\n",
       "      <td>8.06</td>\n",
       "      <td>2.06</td>\n",
       "    </tr>\n",
       "    <tr>\n",
       "      <th>499</th>\n",
       "      <td>2023-01-03</td>\n",
       "      <td>8.57</td>\n",
       "      <td>2.33</td>\n",
       "      <td>3.69</td>\n",
       "      <td>8.35</td>\n",
       "    </tr>\n",
       "    <tr>\n",
       "      <th>617</th>\n",
       "      <td>2023-01-03</td>\n",
       "      <td>4.46</td>\n",
       "      <td>8.58</td>\n",
       "      <td>1.69</td>\n",
       "      <td>8.70</td>\n",
       "    </tr>\n",
       "    <tr>\n",
       "      <th>...</th>\n",
       "      <td>...</td>\n",
       "      <td>...</td>\n",
       "      <td>...</td>\n",
       "      <td>...</td>\n",
       "      <td>...</td>\n",
       "    </tr>\n",
       "    <tr>\n",
       "      <th>285</th>\n",
       "      <td>2023-04-24</td>\n",
       "      <td>9.40</td>\n",
       "      <td>0.37</td>\n",
       "      <td>9.68</td>\n",
       "      <td>7.01</td>\n",
       "    </tr>\n",
       "    <tr>\n",
       "      <th>952</th>\n",
       "      <td>2023-04-25</td>\n",
       "      <td>7.26</td>\n",
       "      <td>2.07</td>\n",
       "      <td>6.16</td>\n",
       "      <td>5.12</td>\n",
       "    </tr>\n",
       "    <tr>\n",
       "      <th>134</th>\n",
       "      <td>2023-04-25</td>\n",
       "      <td>2.90</td>\n",
       "      <td>5.73</td>\n",
       "      <td>8.49</td>\n",
       "      <td>5.89</td>\n",
       "    </tr>\n",
       "    <tr>\n",
       "      <th>791</th>\n",
       "      <td>2023-04-26</td>\n",
       "      <td>2.72</td>\n",
       "      <td>8.28</td>\n",
       "      <td>0.01</td>\n",
       "      <td>5.95</td>\n",
       "    </tr>\n",
       "    <tr>\n",
       "      <th>666</th>\n",
       "      <td>2023-04-26</td>\n",
       "      <td>5.30</td>\n",
       "      <td>0.98</td>\n",
       "      <td>9.83</td>\n",
       "      <td>4.20</td>\n",
       "    </tr>\n",
       "  </tbody>\n",
       "</table>\n",
       "<p>300 rows × 5 columns</p>\n",
       "</div>"
      ],
      "text/plain": [
       "     date_time  Price_Product  Transportation_fare  amount_discount  \\\n",
       "978 2023-01-02           7.28                 2.68             3.37   \n",
       "556 2023-01-02           6.44                 3.24             3.61   \n",
       "861 2023-01-02           7.62                 3.63             8.06   \n",
       "499 2023-01-03           8.57                 2.33             3.69   \n",
       "617 2023-01-03           4.46                 8.58             1.69   \n",
       "..         ...            ...                  ...              ...   \n",
       "285 2023-04-24           9.40                 0.37             9.68   \n",
       "952 2023-04-25           7.26                 2.07             6.16   \n",
       "134 2023-04-25           2.90                 5.73             8.49   \n",
       "791 2023-04-26           2.72                 8.28             0.01   \n",
       "666 2023-04-26           5.30                 0.98             9.83   \n",
       "\n",
       "     Amount_received  \n",
       "978             9.26  \n",
       "556             9.52  \n",
       "861             2.06  \n",
       "499             8.35  \n",
       "617             8.70  \n",
       "..               ...  \n",
       "285             7.01  \n",
       "952             5.12  \n",
       "134             5.89  \n",
       "791             5.95  \n",
       "666             4.20  \n",
       "\n",
       "[300 rows x 5 columns]"
      ]
     },
     "execution_count": 29,
     "metadata": {},
     "output_type": "execute_result"
    }
   ],
   "source": [
    "# filtering with date time\n",
    "\n",
    "filter_df_by_data_time = df.sort_values(by='date_time')\n",
    "filter_df_by_data_time = filter_df_by_data_time.head(300)\n",
    "filter_df_by_data_time"
   ]
  },
  {
   "cell_type": "code",
   "execution_count": 32,
   "id": "57d1452d-e4ab-4e8d-95c8-f8d7eff26006",
   "metadata": {},
   "outputs": [
    {
     "data": {
      "text/html": [
       "<div>\n",
       "<style scoped>\n",
       "    .dataframe tbody tr th:only-of-type {\n",
       "        vertical-align: middle;\n",
       "    }\n",
       "\n",
       "    .dataframe tbody tr th {\n",
       "        vertical-align: top;\n",
       "    }\n",
       "\n",
       "    .dataframe thead th {\n",
       "        text-align: right;\n",
       "    }\n",
       "</style>\n",
       "<table border=\"1\" class=\"dataframe\">\n",
       "  <thead>\n",
       "    <tr style=\"text-align: right;\">\n",
       "      <th></th>\n",
       "      <th>date_time</th>\n",
       "      <th>Price_Product</th>\n",
       "      <th>Transportation_fare</th>\n",
       "      <th>amount_discount</th>\n",
       "      <th>Amount_received</th>\n",
       "    </tr>\n",
       "  </thead>\n",
       "  <tbody>\n",
       "    <tr>\n",
       "      <th>637</th>\n",
       "      <td>2023-02-26</td>\n",
       "      <td>10.00</td>\n",
       "      <td>4.79</td>\n",
       "      <td>0.35</td>\n",
       "      <td>7.45</td>\n",
       "    </tr>\n",
       "    <tr>\n",
       "      <th>921</th>\n",
       "      <td>2023-08-28</td>\n",
       "      <td>10.00</td>\n",
       "      <td>8.68</td>\n",
       "      <td>6.37</td>\n",
       "      <td>1.41</td>\n",
       "    </tr>\n",
       "    <tr>\n",
       "      <th>674</th>\n",
       "      <td>2023-06-10</td>\n",
       "      <td>9.98</td>\n",
       "      <td>5.42</td>\n",
       "      <td>6.98</td>\n",
       "      <td>9.40</td>\n",
       "    </tr>\n",
       "    <tr>\n",
       "      <th>505</th>\n",
       "      <td>2023-12-13</td>\n",
       "      <td>9.98</td>\n",
       "      <td>2.69</td>\n",
       "      <td>3.59</td>\n",
       "      <td>1.85</td>\n",
       "    </tr>\n",
       "    <tr>\n",
       "      <th>962</th>\n",
       "      <td>2023-09-19</td>\n",
       "      <td>9.96</td>\n",
       "      <td>1.92</td>\n",
       "      <td>2.65</td>\n",
       "      <td>7.30</td>\n",
       "    </tr>\n",
       "    <tr>\n",
       "      <th>...</th>\n",
       "      <td>...</td>\n",
       "      <td>...</td>\n",
       "      <td>...</td>\n",
       "      <td>...</td>\n",
       "      <td>...</td>\n",
       "    </tr>\n",
       "    <tr>\n",
       "      <th>701</th>\n",
       "      <td>2023-08-18</td>\n",
       "      <td>0.05</td>\n",
       "      <td>7.65</td>\n",
       "      <td>6.71</td>\n",
       "      <td>5.14</td>\n",
       "    </tr>\n",
       "    <tr>\n",
       "      <th>925</th>\n",
       "      <td>2023-06-28</td>\n",
       "      <td>0.04</td>\n",
       "      <td>8.20</td>\n",
       "      <td>2.86</td>\n",
       "      <td>8.79</td>\n",
       "    </tr>\n",
       "    <tr>\n",
       "      <th>866</th>\n",
       "      <td>2023-05-29</td>\n",
       "      <td>0.01</td>\n",
       "      <td>9.24</td>\n",
       "      <td>9.12</td>\n",
       "      <td>6.43</td>\n",
       "    </tr>\n",
       "    <tr>\n",
       "      <th>367</th>\n",
       "      <td>2023-09-30</td>\n",
       "      <td>0.01</td>\n",
       "      <td>2.60</td>\n",
       "      <td>0.26</td>\n",
       "      <td>2.00</td>\n",
       "    </tr>\n",
       "    <tr>\n",
       "      <th>221</th>\n",
       "      <td>2023-05-10</td>\n",
       "      <td>0.00</td>\n",
       "      <td>3.99</td>\n",
       "      <td>3.06</td>\n",
       "      <td>7.20</td>\n",
       "    </tr>\n",
       "  </tbody>\n",
       "</table>\n",
       "<p>1000 rows × 5 columns</p>\n",
       "</div>"
      ],
      "text/plain": [
       "     date_time  Price_Product  Transportation_fare  amount_discount  \\\n",
       "637 2023-02-26          10.00                 4.79             0.35   \n",
       "921 2023-08-28          10.00                 8.68             6.37   \n",
       "674 2023-06-10           9.98                 5.42             6.98   \n",
       "505 2023-12-13           9.98                 2.69             3.59   \n",
       "962 2023-09-19           9.96                 1.92             2.65   \n",
       "..         ...            ...                  ...              ...   \n",
       "701 2023-08-18           0.05                 7.65             6.71   \n",
       "925 2023-06-28           0.04                 8.20             2.86   \n",
       "866 2023-05-29           0.01                 9.24             9.12   \n",
       "367 2023-09-30           0.01                 2.60             0.26   \n",
       "221 2023-05-10           0.00                 3.99             3.06   \n",
       "\n",
       "     Amount_received  \n",
       "637             7.45  \n",
       "921             1.41  \n",
       "674             9.40  \n",
       "505             1.85  \n",
       "962             7.30  \n",
       "..               ...  \n",
       "701             5.14  \n",
       "925             8.79  \n",
       "866             6.43  \n",
       "367             2.00  \n",
       "221             7.20  \n",
       "\n",
       "[1000 rows x 5 columns]"
      ]
     },
     "execution_count": 32,
     "metadata": {},
     "output_type": "execute_result"
    }
   ],
   "source": [
    "# filtering with price product\n",
    "\n",
    "filter_df_by_price_product = df.sort_values(by='Price_Product', ascending=False)\n",
    "filter_df_by_price_product"
   ]
  },
  {
   "cell_type": "code",
   "execution_count": 30,
   "id": "ed1e2018-9132-4dc8-91ed-831c75cfa301",
   "metadata": {},
   "outputs": [
    {
     "data": {
      "text/html": [
       "<div>\n",
       "<style scoped>\n",
       "    .dataframe tbody tr th:only-of-type {\n",
       "        vertical-align: middle;\n",
       "    }\n",
       "\n",
       "    .dataframe tbody tr th {\n",
       "        vertical-align: top;\n",
       "    }\n",
       "\n",
       "    .dataframe thead th {\n",
       "        text-align: right;\n",
       "    }\n",
       "</style>\n",
       "<table border=\"1\" class=\"dataframe\">\n",
       "  <thead>\n",
       "    <tr style=\"text-align: right;\">\n",
       "      <th></th>\n",
       "      <th>date_time</th>\n",
       "      <th>Price_Product</th>\n",
       "      <th>Transportation_fare</th>\n",
       "      <th>amount_discount</th>\n",
       "      <th>Amount_received</th>\n",
       "    </tr>\n",
       "  </thead>\n",
       "  <tbody>\n",
       "    <tr>\n",
       "      <th>0</th>\n",
       "      <td>2023-08-19</td>\n",
       "      <td>6.28</td>\n",
       "      <td>2.29</td>\n",
       "      <td>8.73</td>\n",
       "      <td>1.51</td>\n",
       "    </tr>\n",
       "    <tr>\n",
       "      <th>1</th>\n",
       "      <td>2023-02-05</td>\n",
       "      <td>6.08</td>\n",
       "      <td>1.89</td>\n",
       "      <td>0.95</td>\n",
       "      <td>4.94</td>\n",
       "    </tr>\n",
       "    <tr>\n",
       "      <th>2</th>\n",
       "      <td>2023-05-12</td>\n",
       "      <td>9.02</td>\n",
       "      <td>9.13</td>\n",
       "      <td>0.43</td>\n",
       "      <td>9.34</td>\n",
       "    </tr>\n",
       "    <tr>\n",
       "      <th>3</th>\n",
       "      <td>2023-10-21</td>\n",
       "      <td>3.91</td>\n",
       "      <td>7.76</td>\n",
       "      <td>6.04</td>\n",
       "      <td>3.49</td>\n",
       "    </tr>\n",
       "    <tr>\n",
       "      <th>4</th>\n",
       "      <td>2023-11-27</td>\n",
       "      <td>2.60</td>\n",
       "      <td>3.66</td>\n",
       "      <td>0.11</td>\n",
       "      <td>4.66</td>\n",
       "    </tr>\n",
       "    <tr>\n",
       "      <th>...</th>\n",
       "      <td>...</td>\n",
       "      <td>...</td>\n",
       "      <td>...</td>\n",
       "      <td>...</td>\n",
       "      <td>...</td>\n",
       "    </tr>\n",
       "    <tr>\n",
       "      <th>995</th>\n",
       "      <td>2023-12-07</td>\n",
       "      <td>4.47</td>\n",
       "      <td>6.88</td>\n",
       "      <td>9.92</td>\n",
       "      <td>3.48</td>\n",
       "    </tr>\n",
       "    <tr>\n",
       "      <th>996</th>\n",
       "      <td>2023-04-06</td>\n",
       "      <td>7.23</td>\n",
       "      <td>6.64</td>\n",
       "      <td>0.34</td>\n",
       "      <td>4.21</td>\n",
       "    </tr>\n",
       "    <tr>\n",
       "      <th>997</th>\n",
       "      <td>2023-10-19</td>\n",
       "      <td>5.20</td>\n",
       "      <td>6.16</td>\n",
       "      <td>8.40</td>\n",
       "      <td>8.22</td>\n",
       "    </tr>\n",
       "    <tr>\n",
       "      <th>998</th>\n",
       "      <td>2023-05-24</td>\n",
       "      <td>4.31</td>\n",
       "      <td>6.56</td>\n",
       "      <td>1.90</td>\n",
       "      <td>2.10</td>\n",
       "    </tr>\n",
       "    <tr>\n",
       "      <th>999</th>\n",
       "      <td>2023-02-10</td>\n",
       "      <td>3.11</td>\n",
       "      <td>1.27</td>\n",
       "      <td>1.85</td>\n",
       "      <td>5.70</td>\n",
       "    </tr>\n",
       "  </tbody>\n",
       "</table>\n",
       "<p>957 rows × 5 columns</p>\n",
       "</div>"
      ],
      "text/plain": [
       "     date_time  Price_Product  Transportation_fare  amount_discount  \\\n",
       "0   2023-08-19           6.28                 2.29             8.73   \n",
       "1   2023-02-05           6.08                 1.89             0.95   \n",
       "2   2023-05-12           9.02                 9.13             0.43   \n",
       "3   2023-10-21           3.91                 7.76             6.04   \n",
       "4   2023-11-27           2.60                 3.66             0.11   \n",
       "..         ...            ...                  ...              ...   \n",
       "995 2023-12-07           4.47                 6.88             9.92   \n",
       "996 2023-04-06           7.23                 6.64             0.34   \n",
       "997 2023-10-19           5.20                 6.16             8.40   \n",
       "998 2023-05-24           4.31                 6.56             1.90   \n",
       "999 2023-02-10           3.11                 1.27             1.85   \n",
       "\n",
       "     Amount_received  \n",
       "0               1.51  \n",
       "1               4.94  \n",
       "2               9.34  \n",
       "3               3.49  \n",
       "4               4.66  \n",
       "..               ...  \n",
       "995             3.48  \n",
       "996             4.21  \n",
       "997             8.22  \n",
       "998             2.10  \n",
       "999             5.70  \n",
       "\n",
       "[957 rows x 5 columns]"
      ]
     },
     "execution_count": 30,
     "metadata": {},
     "output_type": "execute_result"
    }
   ],
   "source": [
    "# We can filter in our desired date range\n",
    "\n",
    "start_date = '1/10/2023'\n",
    "end_date = '12/22/2023'\n",
    "filtered_data = df.loc[(df['date_time'] >= start_date) & (df['date_time'] <= end_date)]\n",
    "filtered_data"
   ]
  },
  {
   "cell_type": "code",
   "execution_count": 33,
   "id": "4804e90c-cba0-4720-afb8-90d1a51a9892",
   "metadata": {},
   "outputs": [
    {
     "data": {
      "text/plain": [
       "(300, 5)"
      ]
     },
     "execution_count": 33,
     "metadata": {},
     "output_type": "execute_result"
    }
   ],
   "source": [
    "# Now we have reduced the amount of samples and put them equal to the data frame so that it becomes lighter and we can continue easily\n",
    "\n",
    "df = sample_df\n",
    "df.shape"
   ]
  },
  {
   "cell_type": "markdown",
   "id": "694faafb-8a95-4cce-b49d-513b856210d0",
   "metadata": {},
   "source": [
    "### Average Daily"
   ]
  },
  {
   "cell_type": "code",
   "execution_count": 34,
   "id": "0c072931-138e-4a09-9938-4984444bc0da",
   "metadata": {},
   "outputs": [
    {
     "data": {
      "text/plain": [
       "date_time\n",
       "2023-01-03    5.460000\n",
       "2023-01-04    5.700000\n",
       "2023-01-06    6.490000\n",
       "2023-01-08    5.760000\n",
       "2023-01-09    5.453333\n",
       "                ...   \n",
       "2023-12-19    0.630000\n",
       "2023-12-22    4.860000\n",
       "2023-12-25    1.900000\n",
       "2023-12-28    4.430000\n",
       "2024-01-01    3.760000\n",
       "Name: Price_Product, Length: 203, dtype: float64"
      ]
     },
     "execution_count": 34,
     "metadata": {},
     "output_type": "execute_result"
    }
   ],
   "source": [
    "daily_average = df.groupby(df['date_time'])['Price_Product'].mean()\n",
    "daily_average"
   ]
  },
  {
   "cell_type": "code",
   "execution_count": 35,
   "id": "3221968a-8e57-4ef6-a807-9b070b7f51b5",
   "metadata": {},
   "outputs": [
    {
     "data": {
      "text/plain": [
       "date_time\n",
       "2023-01-03    3.62\n",
       "2023-01-04    5.70\n",
       "2023-01-06    6.13\n",
       "2023-01-08    5.76\n",
       "2023-01-09    3.51\n",
       "              ... \n",
       "2023-12-19    0.63\n",
       "2023-12-22    4.86\n",
       "2023-12-25    1.90\n",
       "2023-12-28    4.43\n",
       "2024-01-01    3.76\n",
       "Name: Price_Product, Length: 203, dtype: float64"
      ]
     },
     "execution_count": 35,
     "metadata": {},
     "output_type": "execute_result"
    }
   ],
   "source": [
    "daily_min = df.groupby(df['date_time'])['Price_Product'].min()\n",
    "daily_min"
   ]
  },
  {
   "cell_type": "code",
   "execution_count": 36,
   "id": "d2b2465d-1966-4899-a697-1e112fcd994b",
   "metadata": {},
   "outputs": [
    {
     "data": {
      "text/plain": [
       "date_time\n",
       "2023-01-03    7.30\n",
       "2023-01-04    5.70\n",
       "2023-01-06    6.85\n",
       "2023-01-08    5.76\n",
       "2023-01-09    7.14\n",
       "              ... \n",
       "2023-12-19    0.63\n",
       "2023-12-22    4.86\n",
       "2023-12-25    1.90\n",
       "2023-12-28    4.43\n",
       "2024-01-01    3.76\n",
       "Name: Price_Product, Length: 203, dtype: float64"
      ]
     },
     "execution_count": 36,
     "metadata": {},
     "output_type": "execute_result"
    }
   ],
   "source": [
    "daily_max = df.groupby(df['date_time'])['Price_Product'].max()\n",
    "daily_max"
   ]
  },
  {
   "cell_type": "code",
   "execution_count": 37,
   "id": "520362a9-dfef-4638-bf60-e28f6dff74e6",
   "metadata": {},
   "outputs": [
    {
     "data": {
      "text/plain": [
       "date_time\n",
       "2023-01-03    10.92\n",
       "2023-01-04     5.70\n",
       "2023-01-06    12.98\n",
       "2023-01-08     5.76\n",
       "2023-01-09    16.36\n",
       "              ...  \n",
       "2023-12-19     0.63\n",
       "2023-12-22     4.86\n",
       "2023-12-25     1.90\n",
       "2023-12-28     4.43\n",
       "2024-01-01     3.76\n",
       "Name: Price_Product, Length: 203, dtype: float64"
      ]
     },
     "execution_count": 37,
     "metadata": {},
     "output_type": "execute_result"
    }
   ],
   "source": [
    "daily_sum = df.groupby(df['date_time'])['Price_Product'].sum()\n",
    "daily_sum"
   ]
  },
  {
   "cell_type": "code",
   "execution_count": 38,
   "id": "a8a375d9-f0f0-4362-a785-2b2f8861136f",
   "metadata": {},
   "outputs": [
    {
     "data": {
      "text/plain": [
       "date_time\n",
       "2023-01-03    2\n",
       "2023-01-04    1\n",
       "2023-01-06    2\n",
       "2023-01-08    1\n",
       "2023-01-09    3\n",
       "             ..\n",
       "2023-12-19    1\n",
       "2023-12-22    1\n",
       "2023-12-25    1\n",
       "2023-12-28    1\n",
       "2024-01-01    1\n",
       "Name: Price_Product, Length: 203, dtype: int64"
      ]
     },
     "execution_count": 38,
     "metadata": {},
     "output_type": "execute_result"
    }
   ],
   "source": [
    "daily_count = df.groupby(df['date_time'])['Price_Product'].count()\n",
    "daily_count"
   ]
  },
  {
   "cell_type": "code",
   "execution_count": 40,
   "id": "bd910d2e-5730-4a33-b6d8-4b7738d3ef1d",
   "metadata": {},
   "outputs": [
    {
     "data": {
      "text/html": [
       "<div>\n",
       "<style scoped>\n",
       "    .dataframe tbody tr th:only-of-type {\n",
       "        vertical-align: middle;\n",
       "    }\n",
       "\n",
       "    .dataframe tbody tr th {\n",
       "        vertical-align: top;\n",
       "    }\n",
       "\n",
       "    .dataframe thead th {\n",
       "        text-align: right;\n",
       "    }\n",
       "</style>\n",
       "<table border=\"1\" class=\"dataframe\">\n",
       "  <thead>\n",
       "    <tr style=\"text-align: right;\">\n",
       "      <th></th>\n",
       "      <th>date_time</th>\n",
       "      <th>Daily_Count</th>\n",
       "    </tr>\n",
       "  </thead>\n",
       "  <tbody>\n",
       "    <tr>\n",
       "      <th>0</th>\n",
       "      <td>2023-01-03</td>\n",
       "      <td>2</td>\n",
       "    </tr>\n",
       "    <tr>\n",
       "      <th>1</th>\n",
       "      <td>2023-01-04</td>\n",
       "      <td>1</td>\n",
       "    </tr>\n",
       "    <tr>\n",
       "      <th>2</th>\n",
       "      <td>2023-01-06</td>\n",
       "      <td>2</td>\n",
       "    </tr>\n",
       "    <tr>\n",
       "      <th>3</th>\n",
       "      <td>2023-01-08</td>\n",
       "      <td>1</td>\n",
       "    </tr>\n",
       "    <tr>\n",
       "      <th>4</th>\n",
       "      <td>2023-01-09</td>\n",
       "      <td>3</td>\n",
       "    </tr>\n",
       "    <tr>\n",
       "      <th>...</th>\n",
       "      <td>...</td>\n",
       "      <td>...</td>\n",
       "    </tr>\n",
       "    <tr>\n",
       "      <th>198</th>\n",
       "      <td>2023-12-19</td>\n",
       "      <td>1</td>\n",
       "    </tr>\n",
       "    <tr>\n",
       "      <th>199</th>\n",
       "      <td>2023-12-22</td>\n",
       "      <td>1</td>\n",
       "    </tr>\n",
       "    <tr>\n",
       "      <th>200</th>\n",
       "      <td>2023-12-25</td>\n",
       "      <td>1</td>\n",
       "    </tr>\n",
       "    <tr>\n",
       "      <th>201</th>\n",
       "      <td>2023-12-28</td>\n",
       "      <td>1</td>\n",
       "    </tr>\n",
       "    <tr>\n",
       "      <th>202</th>\n",
       "      <td>2024-01-01</td>\n",
       "      <td>1</td>\n",
       "    </tr>\n",
       "  </tbody>\n",
       "</table>\n",
       "<p>203 rows × 2 columns</p>\n",
       "</div>"
      ],
      "text/plain": [
       "     date_time  Daily_Count\n",
       "0   2023-01-03            2\n",
       "1   2023-01-04            1\n",
       "2   2023-01-06            2\n",
       "3   2023-01-08            1\n",
       "4   2023-01-09            3\n",
       "..         ...          ...\n",
       "198 2023-12-19            1\n",
       "199 2023-12-22            1\n",
       "200 2023-12-25            1\n",
       "201 2023-12-28            1\n",
       "202 2024-01-01            1\n",
       "\n",
       "[203 rows x 2 columns]"
      ]
     },
     "execution_count": 40,
     "metadata": {},
     "output_type": "execute_result"
    }
   ],
   "source": [
    "daily_count = daily_count.reset_index()\n",
    "daily_count = daily_count.rename(columns={'Price_Product': 'Daily_Count'})\n",
    "daily_count"
   ]
  },
  {
   "cell_type": "code",
   "execution_count": 39,
   "id": "56d1c6d5-fdf8-4112-912b-e9aef1cffedd",
   "metadata": {},
   "outputs": [
    {
     "data": {
      "text/html": [
       "<div>\n",
       "<style scoped>\n",
       "    .dataframe tbody tr th:only-of-type {\n",
       "        vertical-align: middle;\n",
       "    }\n",
       "\n",
       "    .dataframe tbody tr th {\n",
       "        vertical-align: top;\n",
       "    }\n",
       "\n",
       "    .dataframe thead th {\n",
       "        text-align: right;\n",
       "    }\n",
       "</style>\n",
       "<table border=\"1\" class=\"dataframe\">\n",
       "  <thead>\n",
       "    <tr style=\"text-align: right;\">\n",
       "      <th></th>\n",
       "      <th>date_time</th>\n",
       "      <th>mean</th>\n",
       "      <th>sum</th>\n",
       "      <th>max</th>\n",
       "      <th>min</th>\n",
       "      <th>count</th>\n",
       "    </tr>\n",
       "  </thead>\n",
       "  <tbody>\n",
       "    <tr>\n",
       "      <th>0</th>\n",
       "      <td>2023-01-03</td>\n",
       "      <td>5.460000</td>\n",
       "      <td>10.92</td>\n",
       "      <td>7.30</td>\n",
       "      <td>3.62</td>\n",
       "      <td>2</td>\n",
       "    </tr>\n",
       "    <tr>\n",
       "      <th>1</th>\n",
       "      <td>2023-01-04</td>\n",
       "      <td>5.700000</td>\n",
       "      <td>5.70</td>\n",
       "      <td>5.70</td>\n",
       "      <td>5.70</td>\n",
       "      <td>1</td>\n",
       "    </tr>\n",
       "    <tr>\n",
       "      <th>2</th>\n",
       "      <td>2023-01-06</td>\n",
       "      <td>6.490000</td>\n",
       "      <td>12.98</td>\n",
       "      <td>6.85</td>\n",
       "      <td>6.13</td>\n",
       "      <td>2</td>\n",
       "    </tr>\n",
       "    <tr>\n",
       "      <th>3</th>\n",
       "      <td>2023-01-08</td>\n",
       "      <td>5.760000</td>\n",
       "      <td>5.76</td>\n",
       "      <td>5.76</td>\n",
       "      <td>5.76</td>\n",
       "      <td>1</td>\n",
       "    </tr>\n",
       "    <tr>\n",
       "      <th>4</th>\n",
       "      <td>2023-01-09</td>\n",
       "      <td>5.453333</td>\n",
       "      <td>16.36</td>\n",
       "      <td>7.14</td>\n",
       "      <td>3.51</td>\n",
       "      <td>3</td>\n",
       "    </tr>\n",
       "    <tr>\n",
       "      <th>...</th>\n",
       "      <td>...</td>\n",
       "      <td>...</td>\n",
       "      <td>...</td>\n",
       "      <td>...</td>\n",
       "      <td>...</td>\n",
       "      <td>...</td>\n",
       "    </tr>\n",
       "    <tr>\n",
       "      <th>198</th>\n",
       "      <td>2023-12-19</td>\n",
       "      <td>0.630000</td>\n",
       "      <td>0.63</td>\n",
       "      <td>0.63</td>\n",
       "      <td>0.63</td>\n",
       "      <td>1</td>\n",
       "    </tr>\n",
       "    <tr>\n",
       "      <th>199</th>\n",
       "      <td>2023-12-22</td>\n",
       "      <td>4.860000</td>\n",
       "      <td>4.86</td>\n",
       "      <td>4.86</td>\n",
       "      <td>4.86</td>\n",
       "      <td>1</td>\n",
       "    </tr>\n",
       "    <tr>\n",
       "      <th>200</th>\n",
       "      <td>2023-12-25</td>\n",
       "      <td>1.900000</td>\n",
       "      <td>1.90</td>\n",
       "      <td>1.90</td>\n",
       "      <td>1.90</td>\n",
       "      <td>1</td>\n",
       "    </tr>\n",
       "    <tr>\n",
       "      <th>201</th>\n",
       "      <td>2023-12-28</td>\n",
       "      <td>4.430000</td>\n",
       "      <td>4.43</td>\n",
       "      <td>4.43</td>\n",
       "      <td>4.43</td>\n",
       "      <td>1</td>\n",
       "    </tr>\n",
       "    <tr>\n",
       "      <th>202</th>\n",
       "      <td>2024-01-01</td>\n",
       "      <td>3.760000</td>\n",
       "      <td>3.76</td>\n",
       "      <td>3.76</td>\n",
       "      <td>3.76</td>\n",
       "      <td>1</td>\n",
       "    </tr>\n",
       "  </tbody>\n",
       "</table>\n",
       "<p>203 rows × 6 columns</p>\n",
       "</div>"
      ],
      "text/plain": [
       "     date_time      mean    sum   max   min  count\n",
       "0   2023-01-03  5.460000  10.92  7.30  3.62      2\n",
       "1   2023-01-04  5.700000   5.70  5.70  5.70      1\n",
       "2   2023-01-06  6.490000  12.98  6.85  6.13      2\n",
       "3   2023-01-08  5.760000   5.76  5.76  5.76      1\n",
       "4   2023-01-09  5.453333  16.36  7.14  3.51      3\n",
       "..         ...       ...    ...   ...   ...    ...\n",
       "198 2023-12-19  0.630000   0.63  0.63  0.63      1\n",
       "199 2023-12-22  4.860000   4.86  4.86  4.86      1\n",
       "200 2023-12-25  1.900000   1.90  1.90  1.90      1\n",
       "201 2023-12-28  4.430000   4.43  4.43  4.43      1\n",
       "202 2024-01-01  3.760000   3.76  3.76  3.76      1\n",
       "\n",
       "[203 rows x 6 columns]"
      ]
     },
     "execution_count": 39,
     "metadata": {},
     "output_type": "execute_result"
    }
   ],
   "source": [
    "daily_info = df.groupby(df['date_time']).agg({'Price_Product':['mean', 'sum', 'max', 'min','count']})\n",
    "daily_info.columns = ['mean', 'sum', 'max', 'min', 'count']\n",
    "daily_info.reset_index(inplace=True)\n",
    "daily_info"
   ]
  },
  {
   "cell_type": "code",
   "execution_count": 41,
   "id": "4cc2e838-6446-492d-aca6-b38fee42c38d",
   "metadata": {},
   "outputs": [
    {
     "data": {
      "text/html": [
       "<div>\n",
       "<style scoped>\n",
       "    .dataframe tbody tr th:only-of-type {\n",
       "        vertical-align: middle;\n",
       "    }\n",
       "\n",
       "    .dataframe tbody tr th {\n",
       "        vertical-align: top;\n",
       "    }\n",
       "\n",
       "    .dataframe thead th {\n",
       "        text-align: right;\n",
       "    }\n",
       "</style>\n",
       "<table border=\"1\" class=\"dataframe\">\n",
       "  <thead>\n",
       "    <tr style=\"text-align: right;\">\n",
       "      <th></th>\n",
       "      <th>date_time</th>\n",
       "      <th>Daily_Count</th>\n",
       "    </tr>\n",
       "  </thead>\n",
       "  <tbody>\n",
       "    <tr>\n",
       "      <th>86</th>\n",
       "      <td>2023-05-28</td>\n",
       "      <td>4</td>\n",
       "    </tr>\n",
       "    <tr>\n",
       "      <th>118</th>\n",
       "      <td>2023-07-28</td>\n",
       "      <td>4</td>\n",
       "    </tr>\n",
       "    <tr>\n",
       "      <th>71</th>\n",
       "      <td>2023-05-04</td>\n",
       "      <td>4</td>\n",
       "    </tr>\n",
       "    <tr>\n",
       "      <th>55</th>\n",
       "      <td>2023-04-04</td>\n",
       "      <td>4</td>\n",
       "    </tr>\n",
       "    <tr>\n",
       "      <th>164</th>\n",
       "      <td>2023-10-21</td>\n",
       "      <td>4</td>\n",
       "    </tr>\n",
       "    <tr>\n",
       "      <th>167</th>\n",
       "      <td>2023-10-28</td>\n",
       "      <td>3</td>\n",
       "    </tr>\n",
       "    <tr>\n",
       "      <th>160</th>\n",
       "      <td>2023-10-17</td>\n",
       "      <td>3</td>\n",
       "    </tr>\n",
       "    <tr>\n",
       "      <th>153</th>\n",
       "      <td>2023-09-30</td>\n",
       "      <td>3</td>\n",
       "    </tr>\n",
       "    <tr>\n",
       "      <th>176</th>\n",
       "      <td>2023-11-14</td>\n",
       "      <td>3</td>\n",
       "    </tr>\n",
       "    <tr>\n",
       "      <th>65</th>\n",
       "      <td>2023-04-23</td>\n",
       "      <td>3</td>\n",
       "    </tr>\n",
       "  </tbody>\n",
       "</table>\n",
       "</div>"
      ],
      "text/plain": [
       "     date_time  Daily_Count\n",
       "86  2023-05-28            4\n",
       "118 2023-07-28            4\n",
       "71  2023-05-04            4\n",
       "55  2023-04-04            4\n",
       "164 2023-10-21            4\n",
       "167 2023-10-28            3\n",
       "160 2023-10-17            3\n",
       "153 2023-09-30            3\n",
       "176 2023-11-14            3\n",
       "65  2023-04-23            3"
      ]
     },
     "execution_count": 41,
     "metadata": {},
     "output_type": "execute_result"
    }
   ],
   "source": [
    "Top_Daily_Count=daily_count.sort_values(by='Daily_Count',ascending=False)\n",
    "Top_Daily_Count.head(10)"
   ]
  },
  {
   "cell_type": "code",
   "execution_count": 42,
   "id": "69f8f0c3-e53c-4aa0-872a-97a432661fb9",
   "metadata": {},
   "outputs": [],
   "source": [
    "daily_info.to_csv('report1.csv')\n",
    "Top_Daily_Count.to_csv('report2.csv')"
   ]
  },
  {
   "cell_type": "markdown",
   "id": "c5ea667f-6a89-4416-a129-5f407fa61c0d",
   "metadata": {},
   "source": [
    "### visualization"
   ]
  },
  {
   "cell_type": "code",
   "execution_count": 43,
   "id": "23e8ed57-a58a-4959-8c61-e72f9a7537f3",
   "metadata": {},
   "outputs": [
    {
     "data": {
      "image/png": "[encoded data removed]",
      "text/plain": [
       "<Figure size 640x480 with 1 Axes>"
      ]
     },
     "metadata": {},
     "output_type": "display_data"
    }
   ],
   "source": [
    "plt.bar(daily_info['date_time'],daily_info['sum'],color='blue')\n",
    "plt.xlabel('date')\n",
    "plt.ylabel('sum')\n",
    "plt.show()"
   ]
  },
  {
   "cell_type": "code",
   "execution_count": 44,
   "id": "88b5ae8f-9e25-4b62-8c3c-c22c9892f1eb",
   "metadata": {},
   "outputs": [
    {
     "data": {
      "image/png": "[encoded data removed]",
      "text/plain": [
       "<Figure size 800x800 with 1 Axes>"
      ]
     },
     "metadata": {},
     "output_type": "display_data"
    }
   ],
   "source": [
    "daily_info['year'] = daily_info['date_time'].dt.year\n",
    "daily_info['month'] = daily_info['date_time'].dt.month\n",
    "monthly_sum = daily_info.groupby(['year', 'month'])['sum'].sum()\n",
    "\n",
    "plt.figure(figsize=(8, 8))\n",
    "plt.pie(monthly_sum, labels=monthly_sum.index, autopct='%1.1f%%')\n",
    "plt.title('Pie Chart for Sum by Year and Month')\n",
    "plt.show()"
   ]
  },
  {
   "cell_type": "code",
   "execution_count": null,
   "id": "fdb74058-0bc2-42c9-8219-f52825804a75",
   "metadata": {},
   "outputs": [],
   "source": []
  },
  {
   "cell_type": "code",
   "execution_count": null,
   "id": "58c1ccc3-c86f-4801-b259-c53e1b32c59a",
   "metadata": {},
   "outputs": [],
   "source": []
  }
 ],
 "metadata": {
  "kernelspec": {
   "display_name": "Python 3 (ipykernel)",
   "language": "python",
   "name": "python3"
  },
  "language_info": {
   "codemirror_mode": {
    "name": "ipython",
    "version": 3
   },
   "file_extension": ".py",
   "mimetype": "text/x-python",
   "name": "python",
   "nbconvert_exporter": "python",
   "pygments_lexer": "ipython3",
   "version": "3.11.7"
  }
 },
 "nbformat": 4,
 "nbformat_minor": 5
}
